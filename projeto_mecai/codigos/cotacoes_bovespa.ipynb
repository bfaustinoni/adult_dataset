{
 "cells": [
  {
   "cell_type": "code",
   "execution_count": 1,
   "metadata": {},
   "outputs": [],
   "source": [
    "import pandas as pd"
   ]
  },
  {
   "cell_type": "code",
   "execution_count": 2,
   "metadata": {},
   "outputs": [],
   "source": [
    "path = 'C:/Users/Benedito/Desktop/teste/'"
   ]
  },
  {
   "cell_type": "code",
   "execution_count": 3,
   "metadata": {},
   "outputs": [],
   "source": [
    "colunas = [(0,2), (2, 10), (10, 12), (12,24), (24,27), (27, 39), (39, 49), (49,52), (52, 56), (56, 69), (69,82), (82,95), (95, 108),\n",
    "          (108, 121), (121,134), (134,147), (147,152), (152, 170), (170, 188), (188, 201), (201, 202), (202, 210), (210, 217), (217, 230),\n",
    "          (230, 242), (242, 245)]\n",
    "df = pd.read_fwf(path+'2019.txt', colspecs = colunas)\n"
   ]
  },
  {
   "cell_type": "code",
   "execution_count": 4,
   "metadata": {},
   "outputs": [],
   "source": [
    "\n",
    "df.columns = ['tipreg', 'dtref', 'codbdi','codneg','tpmerc','nomres','especi', 'prazot', 'modref','preabe', 'premax','premin', 'premed',\n",
    "             'preult','preofc','preofv','totneg','quatot','voltot','preexe','indopc','datven','fatcot','ptoexe','codisi','dismes']\n",
    "\n",
    "\n",
    "df['tipreg'] = pd.Series(df['tipreg'].apply(str)).str.pad(width=2, side='left', fillchar='0')\n",
    "df['codbdi'] = pd.Series(df['codbdi'].astype(int).apply(str)).str.pad(width=2, side='left', fillchar='0') ##tava lendo como double\n",
    "df['codneg'] = pd.Series(df['codneg'].apply(str)).str.pad(width=12, side='left', fillchar='0')\n",
    "df['tpmerc'] = pd.Series(df['tpmerc'].apply(str)).str.pad(width=3, side='left', fillchar='0')\n",
    "df['prazot'] = pd.Series(df['prazot'].apply(str)).str.pad(width=3, side='left', fillchar='0')\n",
    "df['ptoexe'] = pd.Series(df['ptoexe'].apply(str)).str.slice(start=0, stop=7, step = 1)#+'.'+pd.Series(df['ptoexe'].apply(str)).str.slice(start=7, stop=13, step = 1).replace(r'.0','')#.apply(pd.to_numeric)\n",
    "\n",
    "\n",
    "df['preabe'] = df['preabe']/100\n",
    "df['premax'] = df['premax']/100\n",
    "df['premin'] = df['premin']/100\n",
    "df['premed'] = df['premed']/100\n",
    "df['preult'] = df['preult']/100\n",
    "df['preofc'] = df['preofc']/100\n",
    "df['preofv'] = df['preofv']/100\n",
    "df['voltot'] = df['voltot']/100\n",
    "df['preexe'] = df['preexe']/100\n",
    "\n",
    "\n"
   ]
  },
  {
   "cell_type": "code",
   "execution_count": 5,
   "metadata": {},
   "outputs": [
    {
     "data": {
      "text/html": [
       "<div>\n",
       "<style scoped>\n",
       "    .dataframe tbody tr th:only-of-type {\n",
       "        vertical-align: middle;\n",
       "    }\n",
       "\n",
       "    .dataframe tbody tr th {\n",
       "        vertical-align: top;\n",
       "    }\n",
       "\n",
       "    .dataframe thead th {\n",
       "        text-align: right;\n",
       "    }\n",
       "</style>\n",
       "<table border=\"1\" class=\"dataframe\">\n",
       "  <thead>\n",
       "    <tr style=\"text-align: right;\">\n",
       "      <th></th>\n",
       "      <th>tipreg</th>\n",
       "      <th>dtref</th>\n",
       "      <th>codbdi</th>\n",
       "      <th>codneg</th>\n",
       "      <th>tpmerc</th>\n",
       "      <th>nomres</th>\n",
       "      <th>especi</th>\n",
       "      <th>prazot</th>\n",
       "      <th>modref</th>\n",
       "      <th>preabe</th>\n",
       "      <th>...</th>\n",
       "      <th>totneg</th>\n",
       "      <th>quatot</th>\n",
       "      <th>voltot</th>\n",
       "      <th>preexe</th>\n",
       "      <th>indopc</th>\n",
       "      <th>datven</th>\n",
       "      <th>fatcot</th>\n",
       "      <th>ptoexe</th>\n",
       "      <th>codisi</th>\n",
       "      <th>dismes</th>\n",
       "    </tr>\n",
       "  </thead>\n",
       "  <tbody>\n",
       "    <tr>\n",
       "      <th>0</th>\n",
       "      <td>01</td>\n",
       "      <td>20190102</td>\n",
       "      <td>02</td>\n",
       "      <td>0000000AALR3</td>\n",
       "      <td>010</td>\n",
       "      <td>ALLIAR</td>\n",
       "      <td>ON      NM</td>\n",
       "      <td>nan</td>\n",
       "      <td>R$</td>\n",
       "      <td>13.31</td>\n",
       "      <td>...</td>\n",
       "      <td>856.0</td>\n",
       "      <td>264200.0</td>\n",
       "      <td>3523962.0</td>\n",
       "      <td>0.0</td>\n",
       "      <td>0.0</td>\n",
       "      <td>99991231.0</td>\n",
       "      <td>1.0</td>\n",
       "      <td>0.0</td>\n",
       "      <td>BRAALRACNOR6</td>\n",
       "      <td>100.0</td>\n",
       "    </tr>\n",
       "    <tr>\n",
       "      <th>1</th>\n",
       "      <td>01</td>\n",
       "      <td>20190102</td>\n",
       "      <td>02</td>\n",
       "      <td>000000AAPL34</td>\n",
       "      <td>010</td>\n",
       "      <td>APPLE</td>\n",
       "      <td>DRN</td>\n",
       "      <td>nan</td>\n",
       "      <td>R$</td>\n",
       "      <td>60.71</td>\n",
       "      <td>...</td>\n",
       "      <td>45.0</td>\n",
       "      <td>16800.0</td>\n",
       "      <td>1015969.0</td>\n",
       "      <td>0.0</td>\n",
       "      <td>0.0</td>\n",
       "      <td>99991231.0</td>\n",
       "      <td>1.0</td>\n",
       "      <td>0.0</td>\n",
       "      <td>BRAAPLBDR004</td>\n",
       "      <td>127.0</td>\n",
       "    </tr>\n",
       "    <tr>\n",
       "      <th>2</th>\n",
       "      <td>01</td>\n",
       "      <td>20190102</td>\n",
       "      <td>02</td>\n",
       "      <td>000000ABBV34</td>\n",
       "      <td>010</td>\n",
       "      <td>ABBVIE</td>\n",
       "      <td>DRN</td>\n",
       "      <td>nan</td>\n",
       "      <td>R$</td>\n",
       "      <td>342.84</td>\n",
       "      <td>...</td>\n",
       "      <td>1.0</td>\n",
       "      <td>300.0</td>\n",
       "      <td>102852.0</td>\n",
       "      <td>0.0</td>\n",
       "      <td>0.0</td>\n",
       "      <td>99991231.0</td>\n",
       "      <td>1.0</td>\n",
       "      <td>0.0</td>\n",
       "      <td>BRABBVBDR001</td>\n",
       "      <td>111.0</td>\n",
       "    </tr>\n",
       "    <tr>\n",
       "      <th>3</th>\n",
       "      <td>01</td>\n",
       "      <td>20190102</td>\n",
       "      <td>02</td>\n",
       "      <td>0000000ABCB4</td>\n",
       "      <td>010</td>\n",
       "      <td>ABC BRASIL</td>\n",
       "      <td>PN  EJS N2</td>\n",
       "      <td>nan</td>\n",
       "      <td>R$</td>\n",
       "      <td>16.47</td>\n",
       "      <td>...</td>\n",
       "      <td>3477.0</td>\n",
       "      <td>571700.0</td>\n",
       "      <td>9598300.0</td>\n",
       "      <td>0.0</td>\n",
       "      <td>0.0</td>\n",
       "      <td>99991231.0</td>\n",
       "      <td>1.0</td>\n",
       "      <td>0.0</td>\n",
       "      <td>BRABCBACNPR4</td>\n",
       "      <td>131.0</td>\n",
       "    </tr>\n",
       "    <tr>\n",
       "      <th>4</th>\n",
       "      <td>01</td>\n",
       "      <td>20190102</td>\n",
       "      <td>02</td>\n",
       "      <td>0000000ABEV3</td>\n",
       "      <td>010</td>\n",
       "      <td>AMBEV S/A</td>\n",
       "      <td>ON  EJ</td>\n",
       "      <td>nan</td>\n",
       "      <td>R$</td>\n",
       "      <td>15.40</td>\n",
       "      <td>...</td>\n",
       "      <td>45941.0</td>\n",
       "      <td>18692900.0</td>\n",
       "      <td>298201954.0</td>\n",
       "      <td>0.0</td>\n",
       "      <td>0.0</td>\n",
       "      <td>99991231.0</td>\n",
       "      <td>1.0</td>\n",
       "      <td>0.0</td>\n",
       "      <td>BRABEVACNOR1</td>\n",
       "      <td>121.0</td>\n",
       "    </tr>\n",
       "  </tbody>\n",
       "</table>\n",
       "<p>5 rows × 26 columns</p>\n",
       "</div>"
      ],
      "text/plain": [
       "  tipreg     dtref codbdi        codneg tpmerc      nomres      especi prazot  \\\n",
       "0     01  20190102     02  0000000AALR3    010      ALLIAR  ON      NM    nan   \n",
       "1     01  20190102     02  000000AAPL34    010       APPLE         DRN    nan   \n",
       "2     01  20190102     02  000000ABBV34    010      ABBVIE         DRN    nan   \n",
       "3     01  20190102     02  0000000ABCB4    010  ABC BRASIL  PN  EJS N2    nan   \n",
       "4     01  20190102     02  0000000ABEV3    010   AMBEV S/A      ON  EJ    nan   \n",
       "\n",
       "  modref  preabe   ...     totneg      quatot       voltot  preexe  indopc  \\\n",
       "0     R$   13.31   ...      856.0    264200.0    3523962.0     0.0     0.0   \n",
       "1     R$   60.71   ...       45.0     16800.0    1015969.0     0.0     0.0   \n",
       "2     R$  342.84   ...        1.0       300.0     102852.0     0.0     0.0   \n",
       "3     R$   16.47   ...     3477.0    571700.0    9598300.0     0.0     0.0   \n",
       "4     R$   15.40   ...    45941.0  18692900.0  298201954.0     0.0     0.0   \n",
       "\n",
       "       datven  fatcot  ptoexe        codisi  dismes  \n",
       "0  99991231.0     1.0     0.0  BRAALRACNOR6   100.0  \n",
       "1  99991231.0     1.0     0.0  BRAAPLBDR004   127.0  \n",
       "2  99991231.0     1.0     0.0  BRABBVBDR001   111.0  \n",
       "3  99991231.0     1.0     0.0  BRABCBACNPR4   131.0  \n",
       "4  99991231.0     1.0     0.0  BRABEVACNOR1   121.0  \n",
       "\n",
       "[5 rows x 26 columns]"
      ]
     },
     "execution_count": 5,
     "metadata": {},
     "output_type": "execute_result"
    }
   ],
   "source": [
    "df.head()"
   ]
  },
  {
   "cell_type": "code",
   "execution_count": 6,
   "metadata": {},
   "outputs": [],
   "source": [
    "df = df[:-1] ###arrancando a linha do rodapé\n",
    "\n",
    "###criando uma data ref no formato data para fazer uns plots\n",
    "\n",
    "df['data_ref'] = pd.Series(df['dtref'].apply(str)).str.slice(start=0, stop=4, step = 1)+'-'+pd.Series(df['dtref'].apply(str)).str.slice(start=4, stop=6, step = 1)+'-'+pd.Series(df['dtref'].apply(str)).str.slice(start=6, stop=8, step = 1)\n",
    "df['data_ref'] = pd.to_datetime(df['data_ref'])\n",
    "\n",
    "\n"
   ]
  },
  {
   "cell_type": "code",
   "execution_count": 7,
   "metadata": {},
   "outputs": [],
   "source": [
    "import matplotlib.pyplot as plt\n",
    "import seaborn as sns\n",
    "sns.set(rc={'figure.figsize':(15, 5)})\n",
    "df = df.set_index('data_ref') ##indexa o dataframe na data do pregao"
   ]
  },
  {
   "cell_type": "code",
   "execution_count": 8,
   "metadata": {},
   "outputs": [
    {
     "data": {
      "text/plain": [
       "<matplotlib.axes._subplots.AxesSubplot at 0x197ef9c59b0>"
      ]
     },
     "execution_count": 8,
     "metadata": {},
     "output_type": "execute_result"
    },
    {
     "data": {
      "image/png": "[encoded data removed]",
      "text/plain": [
       "<Figure size 432x288 with 1 Axes>"
      ]
     },
     "metadata": {
      "needs_background": "light"
     },
     "output_type": "display_data"
    }
   ],
   "source": [
    "\n",
    "df[(df['nomres']=='ITAUUNIBANCO')]['premed'].plot(kind = 'line')"
   ]
  },
  {
   "cell_type": "code",
   "execution_count": 9,
   "metadata": {},
   "outputs": [
    {
     "data": {
      "text/html": [
       "<div>\n",
       "<style scoped>\n",
       "    .dataframe tbody tr th:only-of-type {\n",
       "        vertical-align: middle;\n",
       "    }\n",
       "\n",
       "    .dataframe tbody tr th {\n",
       "        vertical-align: top;\n",
       "    }\n",
       "\n",
       "    .dataframe thead th {\n",
       "        text-align: right;\n",
       "    }\n",
       "</style>\n",
       "<table border=\"1\" class=\"dataframe\">\n",
       "  <thead>\n",
       "    <tr style=\"text-align: right;\">\n",
       "      <th></th>\n",
       "      <th>a</th>\n",
       "      <th>b</th>\n",
       "      <th>c</th>\n",
       "    </tr>\n",
       "    <tr>\n",
       "      <th>data_ref</th>\n",
       "      <th></th>\n",
       "      <th></th>\n",
       "      <th></th>\n",
       "    </tr>\n",
       "  </thead>\n",
       "  <tbody>\n",
       "    <tr>\n",
       "      <th>2019-01-02</th>\n",
       "      <td>4.55</td>\n",
       "      <td>30.15</td>\n",
       "      <td>259.52</td>\n",
       "    </tr>\n",
       "    <tr>\n",
       "      <th>2019-01-02</th>\n",
       "      <td>4.55</td>\n",
       "      <td>30.15</td>\n",
       "      <td>260.84</td>\n",
       "    </tr>\n",
       "    <tr>\n",
       "      <th>2019-01-02</th>\n",
       "      <td>4.55</td>\n",
       "      <td>30.98</td>\n",
       "      <td>259.52</td>\n",
       "    </tr>\n",
       "    <tr>\n",
       "      <th>2019-01-02</th>\n",
       "      <td>4.55</td>\n",
       "      <td>30.98</td>\n",
       "      <td>260.84</td>\n",
       "    </tr>\n",
       "    <tr>\n",
       "      <th>2019-01-02</th>\n",
       "      <td>4.55</td>\n",
       "      <td>30.10</td>\n",
       "      <td>259.52</td>\n",
       "    </tr>\n",
       "  </tbody>\n",
       "</table>\n",
       "</div>"
      ],
      "text/plain": [
       "               a      b       c\n",
       "data_ref                       \n",
       "2019-01-02  4.55  30.15  259.52\n",
       "2019-01-02  4.55  30.15  260.84\n",
       "2019-01-02  4.55  30.98  259.52\n",
       "2019-01-02  4.55  30.98  260.84\n",
       "2019-01-02  4.55  30.10  259.52"
      ]
     },
     "execution_count": 9,
     "metadata": {},
     "output_type": "execute_result"
    }
   ],
   "source": [
    "a = pd.DataFrame(df[df['nomres']=='KLABIN S/A']['premed'])\n",
    "b = pd.DataFrame(df[df['nomres']=='COPEL']['premed'])\n",
    "c = pd.DataFrame(df[df['nomres']=='FACEBOOK']['premed'])\n",
    "\n",
    "a.columns = ['a']\n",
    "b.columns = ['b']\n",
    "c.columns = ['c']\n",
    "df2 = a.join(b).join(c)\n",
    "df2.head()"
   ]
  },
  {
   "cell_type": "code",
   "execution_count": 10,
   "metadata": {},
   "outputs": [
    {
     "data": {
      "image/png": "[encoded data removed]",
      "text/plain": [
       "<Figure size 792x648 with 3 Axes>"
      ]
     },
     "metadata": {
      "needs_background": "light"
     },
     "output_type": "display_data"
    }
   ],
   "source": [
    "cols_plot = ['a', 'b', 'c']\n",
    "\n",
    "axes = df2[cols_plot].plot(marker='.', alpha=0.5, linestyle='None', figsize=(11, 9), subplots=True)\n",
    "for ax in axes:\n",
    "    ax.set_ylabel('Série de preços')\n"
   ]
  }
 ],
 "metadata": {
  "kernelspec": {
   "display_name": "Python 3",
   "language": "python",
   "name": "python3"
  },
  "language_info": {
   "codemirror_mode": {
    "name": "ipython",
    "version": 3
   },
   "file_extension": ".py",
   "mimetype": "text/x-python",
   "name": "python",
   "nbconvert_exporter": "python",
   "pygments_lexer": "ipython3",
   "version": "3.7.1"
  }
 },
 "nbformat": 4,
 "nbformat_minor": 2
}
